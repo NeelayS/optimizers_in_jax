{
 "cells": [
  {
   "cell_type": "markdown",
   "metadata": {
    "colab_type": "text",
    "id": "2t7pkgnS-0B0"
   },
   "source": [
    "# **Importing Libraries**"
   ]
  },
  {
   "cell_type": "code",
   "execution_count": 0,
   "metadata": {
    "colab": {},
    "colab_type": "code",
    "id": "GB7QHXFLa5jI"
   },
   "outputs": [],
   "source": [
    "from __future__ import absolute_import\n",
    "from __future__ import division\n",
    "from __future__ import print_function\n",
    "\n",
    "import array\n",
    "import gzip\n",
    "import os\n",
    "from os import path\n",
    "import struct\n",
    "import urllib\n",
    "import matplotlib.pyplot as plt\n",
    "import time\n",
    "import numpy.random as nr\n",
    "from jax.api import jit, grad\n",
    "from jax.config import config\n",
    "from jax.scipy.special import logsumexp\n",
    "import jax.numpy as np\n",
    "\n",
    "\n",
    "\n"
   ]
  },
  {
   "cell_type": "markdown",
   "metadata": {
    "colab_type": "text",
    "id": "IpIJP0_p-8rD"
   },
   "source": [
    "# **Loading Data**"
   ]
  },
  {
   "cell_type": "code",
   "execution_count": 0,
   "metadata": {
    "colab": {},
    "colab_type": "code",
    "id": "KDlzjXDnAGjR"
   },
   "outputs": [],
   "source": [
    "\"\"\"Code for loading data taken from the official JAX repository-\n",
    "https://github.com/google/jax/tree/master/examples \"\"\""
   ]
  },
  {
   "cell_type": "code",
   "execution_count": 0,
   "metadata": {
    "colab": {},
    "colab_type": "code",
    "id": "CE9h1URFSOuv"
   },
   "outputs": [],
   "source": [
    "_DATA = \"/tmp/jax_example_data/\"\n",
    "\n",
    "\n",
    "def _download(url, filename):\n",
    "  \"\"\"Download a url to a file in the JAX data temp directory.\"\"\"\n",
    "  if not path.exists(_DATA):\n",
    "    os.makedirs(_DATA)\n",
    "  out_file = path.join(_DATA, filename)\n",
    "  if not path.isfile(out_file):\n",
    "    urllib.request.urlretrieve(url, out_file)\n",
    "    print(\"downloaded {} to {}\".format(url, _DATA))\n",
    "\n",
    "\n",
    "def _partial_flatten(x):\n",
    "  \"\"\"Flatten all but the first dimension of an ndarray.\"\"\"\n",
    "  return np.reshape(x, (x.shape[0], -1))\n",
    "\n",
    "\n",
    "def _one_hot(x, k, dtype=np.float32):\n",
    "  \"\"\"Create a one-hot encoding of x of size k.\"\"\"\n",
    "  return np.array(x[:, None] == np.arange(k), dtype)\n",
    "\n",
    "\n",
    "def mnist_raw():\n",
    "  \"\"\"Download and parse the raw MNIST dataset.\"\"\"\n",
    "  # CVDF mirror of http://yann.lecun.com/exdb/mnist/\n",
    "  base_url = \"https://storage.googleapis.com/cvdf-datasets/mnist/\"\n",
    "\n",
    "  def parse_labels(filename):\n",
    "    with gzip.open(filename, \"rb\") as fh:\n",
    "      _ = struct.unpack(\">II\", fh.read(8))\n",
    "      return np.array(array.array(\"B\", fh.read()), dtype=np.uint8)\n",
    "\n",
    "  def parse_images(filename):\n",
    "    with gzip.open(filename, \"rb\") as fh:\n",
    "      _, num_data, rows, cols = struct.unpack(\">IIII\", fh.read(16))\n",
    "      return np.array(array.array(\"B\", fh.read()),\n",
    "                      dtype=np.uint8).reshape(num_data, rows, cols)\n",
    "\n",
    "  for filename in [\"train-images-idx3-ubyte.gz\", \"train-labels-idx1-ubyte.gz\",\n",
    "                   \"t10k-images-idx3-ubyte.gz\", \"t10k-labels-idx1-ubyte.gz\"]:\n",
    "    _download(base_url + filename, filename)\n",
    "\n",
    "  train_images = parse_images(path.join(_DATA, \"train-images-idx3-ubyte.gz\"))\n",
    "  train_labels = parse_labels(path.join(_DATA, \"train-labels-idx1-ubyte.gz\"))\n",
    "  test_images = parse_images(path.join(_DATA, \"t10k-images-idx3-ubyte.gz\"))\n",
    "  test_labels = parse_labels(path.join(_DATA, \"t10k-labels-idx1-ubyte.gz\"))\n",
    "\n",
    "  return train_images, train_labels, test_images, test_labels\n",
    "\n",
    "\n",
    "def mnist(permute_train=False):\n",
    "  \"\"\"Download, parse and process MNIST data to unit scale and one-hot labels.\"\"\"\n",
    "  train_images, train_labels, test_images, test_labels = mnist_raw()\n",
    "\n",
    "  train_images = _partial_flatten(train_images) / np.float32(255.)\n",
    "  test_images = _partial_flatten(test_images) / np.float32(255.)\n",
    "  train_labels = _one_hot(train_labels, 10)\n",
    "  test_labels = _one_hot(test_labels, 10)\n",
    "\n",
    "  if permute_train:\n",
    "    perm = np.random.RandomState(0).permutation(train_images.shape[0])\n",
    "    train_images = train_images[perm]\n",
    "    train_labels = train_labels[perm]\n",
    "\n",
    "  return train_images, train_labels, test_images, test_labels"
   ]
  },
  {
   "cell_type": "markdown",
   "metadata": {
    "colab_type": "text",
    "id": "ju5sRaI7_I2n"
   },
   "source": [
    "# **Utils**"
   ]
  },
  {
   "cell_type": "code",
   "execution_count": 0,
   "metadata": {
    "colab": {},
    "colab_type": "code",
    "id": "mTLP9BlcfAum"
   },
   "outputs": [],
   "source": [
    "rng = nr.RandomState(0)"
   ]
  },
  {
   "cell_type": "code",
   "execution_count": 0,
   "metadata": {
    "colab": {},
    "colab_type": "code",
    "id": "3VCWXfxscLQk"
   },
   "outputs": [],
   "source": [
    "def init_params(layer_sizes):\n",
    "  return [(rng.randn(m, n), rng.randn(n))\n",
    "          for m, n, in zip(layer_sizes[:-1], layer_sizes[1:])]"
   ]
  },
  {
   "cell_type": "code",
   "execution_count": 0,
   "metadata": {
    "colab": {},
    "colab_type": "code",
    "id": "DMpVavE9gphO"
   },
   "outputs": [],
   "source": [
    "def predict(params, input):\n",
    "  activations = input\n",
    "  for w, b in params[:-1]:\n",
    "    output = np.dot(activations, w) + b\n",
    "    activations = np.tanh(output)\n",
    "\n",
    "  final_w, final_b = params[-1]\n",
    "  logits = np.dot(activations, final_w) + final_b\n",
    "  return logits - logsumexp(logits, axis=1, keepdims=True)"
   ]
  },
  {
   "cell_type": "code",
   "execution_count": 0,
   "metadata": {
    "colab": {},
    "colab_type": "code",
    "id": "yRquGLVHiRpK"
   },
   "outputs": [],
   "source": [
    "def loss(params, batch):\n",
    "  inputs, targets = batch\n",
    "  preds = predict(params, inputs)\n",
    "  return -np.mean(np.sum(preds * targets, axis=1))"
   ]
  },
  {
   "cell_type": "code",
   "execution_count": 0,
   "metadata": {
    "colab": {},
    "colab_type": "code",
    "id": "6KIEMYO0SUK4"
   },
   "outputs": [],
   "source": [
    "def accuracy(params, batch):\n",
    "  inputs, targets = batch\n",
    "  target_class = np.argmax(targets, axis=1)\n",
    "  predicted_class = np.argmax(predict(params, inputs), axis=1)\n",
    "  return np.mean(predicted_class == target_class)"
   ]
  },
  {
   "cell_type": "markdown",
   "metadata": {
    "colab_type": "text",
    "id": "HWSAVcTq_a4F"
   },
   "source": [
    "# **Hyperparameters and Data Batching**"
   ]
  },
  {
   "cell_type": "code",
   "execution_count": 0,
   "metadata": {
    "colab": {},
    "colab_type": "code",
    "id": "jQPr10yWSW1Z"
   },
   "outputs": [],
   "source": [
    "layer_sizes = [784, 1024, 1024, 10]\n",
    "lr = 0.001\n",
    "num_epochs = 20\n",
    "batch_size = 32"
   ]
  },
  {
   "cell_type": "code",
   "execution_count": 0,
   "metadata": {
    "colab": {},
    "colab_type": "code",
    "id": "0mwqMCgpScV5"
   },
   "outputs": [],
   "source": [
    "train_images, train_labels, test_images, test_labels = mnist()\n",
    "num_train = train_images.shape[0]\n",
    "num_complete_batches, leftover = divmod(num_train, batch_size)\n",
    "num_batches = num_complete_batches + bool(leftover)"
   ]
  },
  {
   "cell_type": "code",
   "execution_count": 0,
   "metadata": {
    "colab": {},
    "colab_type": "code",
    "id": "dLKQ0T58SfPb"
   },
   "outputs": [],
   "source": [
    "def train_data_stream():\n",
    "  rng = npr.RandomState(0)\n",
    "  while True:\n",
    "    perm = rng.permutation(num_train)\n",
    "    for i in range(num_batches):\n",
    "      batch_idx = perm[i * batch_size:(i + 1) * batch_size]\n",
    "      yield train_images[batch_idx], train_labels[batch_idx]\n",
    "train_batches = train_data_stream()"
   ]
  },
  {
   "cell_type": "markdown",
   "metadata": {
    "colab_type": "text",
    "id": "htoxCqdK_lwU"
   },
   "source": [
    "# Training with optimizers"
   ]
  },
  {
   "cell_type": "markdown",
   "metadata": {
    "colab_type": "text",
    "id": "gRJLaQQuliCl"
   },
   "source": [
    "## Stochastic Gradient Descent"
   ]
  },
  {
   "cell_type": "code",
   "execution_count": 147,
   "metadata": {
    "colab": {
     "base_uri": "https://localhost:8080/",
     "height": 1000
    },
    "colab_type": "code",
    "executionInfo": {
     "elapsed": 550344,
     "status": "ok",
     "timestamp": 1578584424463,
     "user": {
      "displayName": "Neelay Shah",
      "photoUrl": "https://lh3.googleusercontent.com/a-/AAuE7mAYPfWwWR7cySeqWBPz_7nEPr0owe9fdCEsbBAi2A=s64",
      "userId": "13259335055052750882"
     },
     "user_tz": -330
    },
    "id": "jEKKdhq8Snf2",
    "outputId": "321ffa07-c4b9-40a9-f784-e5a073ae2a41"
   },
   "outputs": [
    {
     "name": "stdout",
     "output_type": "stream",
     "text": [
      "Epoch number 1\n",
      "\n",
      "Training set accuracy = 0.8428000211715698\n",
      "Test set accuracy = 0.8391000628471375\n",
      "\n",
      "Epoch number 2\n",
      "\n",
      "Training set accuracy = 0.8785666823387146\n",
      "Test set accuracy = 0.8671000599861145\n",
      "\n",
      "Epoch number 3\n",
      "\n",
      "Training set accuracy = 0.8946499824523926\n",
      "Test set accuracy = 0.8813000321388245\n",
      "\n",
      "Epoch number 4\n",
      "\n",
      "Training set accuracy = 0.907200038433075\n",
      "Test set accuracy = 0.8883000612258911\n",
      "\n",
      "Epoch number 5\n",
      "\n",
      "Training set accuracy = 0.9187333583831787\n",
      "Test set accuracy = 0.897100031375885\n",
      "\n",
      "Epoch number 6\n",
      "\n",
      "Training set accuracy = 0.9255666732788086\n",
      "Test set accuracy = 0.9044000506401062\n",
      "\n",
      "Epoch number 7\n",
      "\n",
      "Training set accuracy = 0.9328500032424927\n",
      "Test set accuracy = 0.90420001745224\n",
      "\n",
      "Epoch number 8\n",
      "\n",
      "Training set accuracy = 0.9363666772842407\n",
      "Test set accuracy = 0.9066000580787659\n",
      "\n",
      "Epoch number 9\n",
      "\n",
      "Training set accuracy = 0.9429666996002197\n",
      "Test set accuracy = 0.909000039100647\n",
      "\n",
      "Epoch number 10\n",
      "\n",
      "Training set accuracy = 0.9485166668891907\n",
      "Test set accuracy = 0.9165000319480896\n",
      "\n",
      "Epoch number 11\n",
      "\n",
      "Training set accuracy = 0.9522666931152344\n",
      "Test set accuracy = 0.9153000712394714\n",
      "\n",
      "Epoch number 12\n",
      "\n",
      "Training set accuracy = 0.9586499929428101\n",
      "Test set accuracy = 0.91920006275177\n",
      "\n",
      "Epoch number 13\n",
      "\n",
      "Training set accuracy = 0.9618833661079407\n",
      "Test set accuracy = 0.9225000143051147\n",
      "\n",
      "Epoch number 14\n",
      "\n",
      "Training set accuracy = 0.9649666547775269\n",
      "Test set accuracy = 0.9195000529289246\n",
      "\n",
      "Epoch number 15\n",
      "\n",
      "Training set accuracy = 0.9693000316619873\n",
      "Test set accuracy = 0.9240000247955322\n",
      "\n",
      "Epoch number 16\n",
      "\n",
      "Training set accuracy = 0.9718999862670898\n",
      "Test set accuracy = 0.929900050163269\n",
      "\n",
      "Epoch number 17\n",
      "\n",
      "Training set accuracy = 0.9785833358764648\n",
      "Test set accuracy = 0.9254000186920166\n",
      "\n",
      "Epoch number 18\n",
      "\n",
      "Training set accuracy = 0.9806666970252991\n",
      "Test set accuracy = 0.9285000562667847\n",
      "\n",
      "Epoch number 19\n",
      "\n",
      "Training set accuracy = 0.9846000075340271\n",
      "Test set accuracy = 0.9280000329017639\n",
      "\n",
      "Epoch number 20\n",
      "\n",
      "Training set accuracy = 0.9861167073249817\n",
      "Test set accuracy = 0.9313000440597534\n",
      "\n"
     ]
    },
    {
     "data": {
      "text/plain": [
       "[<matplotlib.lines.Line2D at 0x7f3ef49d8630>]"
      ]
     },
     "execution_count": 147,
     "metadata": {
      "tags": []
     },
     "output_type": "execute_result"
    },
    {
     "data": {
      "image/png": "[encoded data removed]",
      "text/plain": [
       "<Figure size 432x288 with 1 Axes>"
      ]
     },
     "metadata": {
      "tags": []
     },
     "output_type": "display_data"
    }
   ],
   "source": [
    "params = init_params(layer_sizes)\n",
    "track_loss = []\n",
    "for epoch in range(num_epochs):\n",
    "  for i in range(num_batches):\n",
    "    inp = next(batches)\n",
    "    grads = grad(loss)(params, inp)\n",
    "    params = [(w - lr*dw, b - lr*db)\n",
    "            for (w, b), (dw, db) in zip(params, grads)]\n",
    "\n",
    "    if i%100 == 0:\n",
    "      track_loss.append(loss(params,inp))\n",
    "    \n",
    "  \n",
    "\n",
    "  train_acc = accuracy(params, (train_images, train_labels))\n",
    "  test_acc = accuracy(params, (test_images, test_labels))\n",
    "  print(f'Epoch number {epoch+1}\\n')\n",
    "  print(f'Training set accuracy = {train_acc}')\n",
    "  print(f'Test set accuracy = {test_acc}\\n')\n",
    "\n",
    "plt.plot(track_loss)"
   ]
  },
  {
   "cell_type": "markdown",
   "metadata": {
    "colab_type": "text",
    "id": "0aAhW-ehlsXS"
   },
   "source": [
    "## Momentum"
   ]
  },
  {
   "cell_type": "code",
   "execution_count": 148,
   "metadata": {
    "colab": {
     "base_uri": "https://localhost:8080/",
     "height": 1000
    },
    "colab_type": "code",
    "executionInfo": {
     "elapsed": 591874,
     "status": "ok",
     "timestamp": 1578585016387,
     "user": {
      "displayName": "Neelay Shah",
      "photoUrl": "https://lh3.googleusercontent.com/a-/AAuE7mAYPfWwWR7cySeqWBPz_7nEPr0owe9fdCEsbBAi2A=s64",
      "userId": "13259335055052750882"
     },
     "user_tz": -330
    },
    "id": "Bbcqdl2zSr5m",
    "outputId": "f787b778-8000-4df4-cfc3-82ef64354e1c"
   },
   "outputs": [
    {
     "name": "stdout",
     "output_type": "stream",
     "text": [
      "Epoch number 1\n",
      "\n",
      "Training set accuracy = 0.8282166719436646\n",
      "Test set accuracy = 0.829300045967102\n",
      "\n",
      "Epoch number 2\n",
      "\n",
      "Training set accuracy = 0.8438833355903625\n",
      "Test set accuracy = 0.8354000449180603\n",
      "\n",
      "Epoch number 3\n",
      "\n",
      "Training set accuracy = 0.8589000105857849\n",
      "Test set accuracy = 0.8504000306129456\n",
      "\n",
      "Epoch number 4\n",
      "\n",
      "Training set accuracy = 0.8982499837875366\n",
      "Test set accuracy = 0.8904000520706177\n",
      "\n",
      "Epoch number 5\n",
      "\n",
      "Training set accuracy = 0.9063166975975037\n",
      "Test set accuracy = 0.8992000222206116\n",
      "\n",
      "Epoch number 6\n",
      "\n",
      "Training set accuracy = 0.9172999858856201\n",
      "Test set accuracy = 0.906000018119812\n",
      "\n",
      "Epoch number 7\n",
      "\n",
      "Training set accuracy = 0.9103833436965942\n",
      "Test set accuracy = 0.8986000418663025\n",
      "\n",
      "Epoch number 8\n",
      "\n",
      "Training set accuracy = 0.9243833422660828\n",
      "Test set accuracy = 0.9111000299453735\n",
      "\n",
      "Epoch number 9\n",
      "\n",
      "Training set accuracy = 0.9265000224113464\n",
      "Test set accuracy = 0.9154000282287598\n",
      "\n",
      "Epoch number 10\n",
      "\n",
      "Training set accuracy = 0.9175333380699158\n",
      "Test set accuracy = 0.9033000469207764\n",
      "\n",
      "Epoch number 11\n",
      "\n",
      "Training set accuracy = 0.9413999915122986\n",
      "Test set accuracy = 0.9248000383377075\n",
      "\n",
      "Epoch number 12\n",
      "\n",
      "Training set accuracy = 0.9454666972160339\n",
      "Test set accuracy = 0.9295000433921814\n",
      "\n",
      "Epoch number 13\n",
      "\n",
      "Training set accuracy = 0.9465166926383972\n",
      "Test set accuracy = 0.9279000163078308\n",
      "\n",
      "Epoch number 14\n",
      "\n",
      "Training set accuracy = 0.9552167057991028\n",
      "Test set accuracy = 0.9357000589370728\n",
      "\n",
      "Epoch number 15\n",
      "\n",
      "Training set accuracy = 0.9513000249862671\n",
      "Test set accuracy = 0.9348000288009644\n",
      "\n",
      "Epoch number 16\n",
      "\n",
      "Training set accuracy = 0.9587666988372803\n",
      "Test set accuracy = 0.9380000233650208\n",
      "\n",
      "Epoch number 17\n",
      "\n",
      "Training set accuracy = 0.956849992275238\n",
      "Test set accuracy = 0.9354000687599182\n",
      "\n",
      "Epoch number 18\n",
      "\n",
      "Training set accuracy = 0.9604333639144897\n",
      "Test set accuracy = 0.9410000443458557\n",
      "\n",
      "Epoch number 19\n",
      "\n",
      "Training set accuracy = 0.9605000019073486\n",
      "Test set accuracy = 0.9366000294685364\n",
      "\n",
      "Epoch number 20\n",
      "\n",
      "Training set accuracy = 0.9660833477973938\n",
      "Test set accuracy = 0.9465000629425049\n",
      "\n"
     ]
    },
    {
     "data": {
      "text/plain": [
       "[<matplotlib.lines.Line2D at 0x7f3ef4545048>]"
      ]
     },
     "execution_count": 148,
     "metadata": {
      "tags": []
     },
     "output_type": "execute_result"
    },
    {
     "data": {
      "image/png": "[encoded data removed]",
      "text/plain": [
       "<Figure size 432x288 with 1 Axes>"
      ]
     },
     "metadata": {
      "tags": []
     },
     "output_type": "display_data"
    }
   ],
   "source": [
    "params = init_params(layer_sizes)\n",
    "gamma = 0.8\n",
    "track_loss = []\n",
    "vel = [(np.zeros([m, n]), np.zeros([n]))\n",
    "        for m, n, in zip(layer_sizes[:-1], layer_sizes[1:])]\n",
    "\n",
    "for epoch in range(num_epochs):\n",
    "\n",
    "  for i in range(num_batches):\n",
    "\n",
    "    inp = next(batches)\n",
    "    grads = grad(loss)(params, inp)\n",
    "\n",
    "    vel = [(gamma * vel_w + lr * dw, gamma * vel_b + lr * db )\n",
    "           for (vel_w, vel_b), (dw, db) in zip(vel, grads)]\n",
    "\n",
    "    params = [(w - vel_w, b - vel_b)\n",
    "            for (w, b), (vel_w, vel_b) in zip(params, vel)]\n",
    "\n",
    "    if i%100 == 0:\n",
    "      track_loss.append(loss(params,inp))\n",
    "    \n",
    "  \n",
    "\n",
    "  train_acc = accuracy(params, (train_images, train_labels))\n",
    "  test_acc = accuracy(params, (test_images, test_labels))\n",
    "  print(f'Epoch number {epoch+1}\\n')\n",
    "  print(f'Training set accuracy = {train_acc}')\n",
    "  print(f'Test set accuracy = {test_acc}\\n')\n",
    "\n",
    "plt.plot(track_loss)"
   ]
  },
  {
   "cell_type": "markdown",
   "metadata": {
    "colab_type": "text",
    "id": "U_-QfoP1l17m"
   },
   "source": [
    "## ADAGRAD"
   ]
  },
  {
   "cell_type": "code",
   "execution_count": 149,
   "metadata": {
    "colab": {
     "base_uri": "https://localhost:8080/",
     "height": 1000
    },
    "colab_type": "code",
    "executionInfo": {
     "elapsed": 1322710,
     "status": "ok",
     "timestamp": 1578585747264,
     "user": {
      "displayName": "Neelay Shah",
      "photoUrl": "https://lh3.googleusercontent.com/a-/AAuE7mAYPfWwWR7cySeqWBPz_7nEPr0owe9fdCEsbBAi2A=s64",
      "userId": "13259335055052750882"
     },
     "user_tz": -330
    },
    "id": "H00oANWQXM4m",
    "outputId": "c987d7cc-0a12-466e-f5db-af34f271fd38"
   },
   "outputs": [
    {
     "name": "stdout",
     "output_type": "stream",
     "text": [
      "Epoch number 1\n",
      "\n",
      "Training set accuracy = 0.8704333305358887\n",
      "Test set accuracy = 0.8601000308990479\n",
      "\n",
      "Epoch number 2\n",
      "\n",
      "Training set accuracy = 0.901283323764801\n",
      "Test set accuracy = 0.8808000683784485\n",
      "\n",
      "Epoch number 3\n",
      "\n",
      "Training set accuracy = 0.9193000197410583\n",
      "Test set accuracy = 0.8977000713348389\n",
      "\n",
      "Epoch number 4\n",
      "\n",
      "Training set accuracy = 0.9360499978065491\n",
      "Test set accuracy = 0.9091000556945801\n",
      "\n",
      "Epoch number 5\n",
      "\n",
      "Training set accuracy = 0.9422333240509033\n",
      "Test set accuracy = 0.9124000668525696\n",
      "\n",
      "Epoch number 6\n",
      "\n",
      "Training set accuracy = 0.9505833387374878\n",
      "Test set accuracy = 0.9131000638008118\n",
      "\n",
      "Epoch number 7\n",
      "\n",
      "Training set accuracy = 0.9572666883468628\n",
      "Test set accuracy = 0.9153000712394714\n",
      "\n",
      "Epoch number 8\n",
      "\n",
      "Training set accuracy = 0.9670166969299316\n",
      "Test set accuracy = 0.917900025844574\n",
      "\n",
      "Epoch number 9\n",
      "\n",
      "Training set accuracy = 0.9720333218574524\n",
      "Test set accuracy = 0.9130000472068787\n",
      "\n",
      "Epoch number 10\n",
      "\n",
      "Training set accuracy = 0.9791833162307739\n",
      "Test set accuracy = 0.92330002784729\n",
      "\n",
      "Epoch number 11\n",
      "\n",
      "Training set accuracy = 0.9846333265304565\n",
      "Test set accuracy = 0.9250000715255737\n",
      "\n",
      "Epoch number 12\n",
      "\n",
      "Training set accuracy = 0.989549994468689\n",
      "Test set accuracy = 0.9243000149726868\n",
      "\n",
      "Epoch number 13\n",
      "\n",
      "Training set accuracy = 0.9929167032241821\n",
      "Test set accuracy = 0.9254000186920166\n",
      "\n",
      "Epoch number 14\n",
      "\n",
      "Training set accuracy = 0.996666669845581\n",
      "Test set accuracy = 0.9225000143051147\n",
      "\n",
      "Epoch number 15\n",
      "\n",
      "Training set accuracy = 0.9984000325202942\n",
      "Test set accuracy = 0.9249000549316406\n",
      "\n",
      "Epoch number 16\n",
      "\n",
      "Training set accuracy = 0.9990500211715698\n",
      "Test set accuracy = 0.9264000654220581\n",
      "\n",
      "Epoch number 17\n",
      "\n",
      "Training set accuracy = 0.9992499947547913\n",
      "Test set accuracy = 0.9259000420570374\n",
      "\n",
      "Epoch number 18\n",
      "\n",
      "Training set accuracy = 0.9994333386421204\n",
      "Test set accuracy = 0.9258000254631042\n",
      "\n",
      "Epoch number 19\n",
      "\n",
      "Training set accuracy = 0.9994666576385498\n",
      "Test set accuracy = 0.9262000322341919\n",
      "\n",
      "Epoch number 20\n",
      "\n",
      "Training set accuracy = 0.9995333552360535\n",
      "Test set accuracy = 0.9259000420570374\n",
      "\n"
     ]
    },
    {
     "data": {
      "text/plain": [
       "[<matplotlib.lines.Line2D at 0x7f3ef4a227b8>]"
      ]
     },
     "execution_count": 149,
     "metadata": {
      "tags": []
     },
     "output_type": "execute_result"
    },
    {
     "data": {
      "image/png": "[encoded data removed]",
      "text/plain": [
       "<Figure size 432x288 with 1 Axes>"
      ]
     },
     "metadata": {
      "tags": []
     },
     "output_type": "display_data"
    }
   ],
   "source": [
    "params = init_params(layer_sizes)\n",
    "eps = 1e-4\n",
    "track_loss = []\n",
    "vel = [(np.zeros([m, n]), np.zeros([n]))\n",
    "        for m, n, in zip(layer_sizes[:-1], layer_sizes[1:])]\n",
    "\n",
    "for epoch in range(num_epochs):\n",
    "\n",
    "  for i in range(num_batches):\n",
    "\n",
    "    inp = next(batches)\n",
    "    grads = grad(loss)(params, inp)\n",
    "\n",
    "    vel = [(vel_w + dw**2, vel_b + db**2 )\n",
    "           for (vel_w, vel_b), (dw, db) in zip(vel, grads)]\n",
    "\n",
    "    params = [(w - dw*lr/(vel_w**0.5 + eps), b - db*lr/(vel_b**0.5 + eps))\n",
    "            for (w, b), (vel_w, vel_b),(dw,db) in zip(params, vel,grads)]\n",
    "\n",
    "    if i%100 == 0:\n",
    "      track_loss.append(loss(params,inp))\n",
    "    \n",
    "  \n",
    "\n",
    "  train_acc = accuracy(params, (train_images, train_labels))\n",
    "  test_acc = accuracy(params, (test_images, test_labels))\n",
    "  print(f'Epoch number {epoch+1}\\n')\n",
    "  print(f'Training set accuracy = {train_acc}')\n",
    "  print(f'Test set accuracy = {test_acc}\\n')\n",
    "\n",
    "plt.plot(track_loss)"
   ]
  },
  {
   "cell_type": "markdown",
   "metadata": {
    "colab_type": "text",
    "id": "qBeAKW0TpcXi"
   },
   "source": [
    "## RMSProp"
   ]
  },
  {
   "cell_type": "code",
   "execution_count": 166,
   "metadata": {
    "colab": {
     "base_uri": "https://localhost:8080/",
     "height": 1000
    },
    "colab_type": "code",
    "executionInfo": {
     "elapsed": 781690,
     "status": "ok",
     "timestamp": 1578588979150,
     "user": {
      "displayName": "Neelay Shah",
      "photoUrl": "https://lh3.googleusercontent.com/a-/AAuE7mAYPfWwWR7cySeqWBPz_7nEPr0owe9fdCEsbBAi2A=s64",
      "userId": "13259335055052750882"
     },
     "user_tz": -330
    },
    "id": "yjdbgm9viIUh",
    "outputId": "679cf7e3-0e5b-4cd1-f1ed-bb7f9977900a"
   },
   "outputs": [
    {
     "name": "stdout",
     "output_type": "stream",
     "text": [
      "Epoch number 1\n",
      "\n",
      "Training set accuracy = 0.8531833291053772\n",
      "Test set accuracy = 0.851300060749054\n",
      "\n",
      "Epoch number 2\n",
      "\n",
      "Training set accuracy = 0.8773666620254517\n",
      "Test set accuracy = 0.8765000700950623\n",
      "\n",
      "Epoch number 3\n",
      "\n",
      "Training set accuracy = 0.891700029373169\n",
      "Test set accuracy = 0.8880000710487366\n",
      "\n",
      "Epoch number 4\n",
      "\n",
      "Training set accuracy = 0.8809000253677368\n",
      "Test set accuracy = 0.8753000497817993\n",
      "\n",
      "Epoch number 5\n",
      "\n",
      "Training set accuracy = 0.9083333611488342\n",
      "Test set accuracy = 0.9063000679016113\n",
      "\n",
      "Epoch number 6\n",
      "\n",
      "Training set accuracy = 0.8868666887283325\n",
      "Test set accuracy = 0.8867000341415405\n",
      "\n",
      "Epoch number 7\n",
      "\n",
      "Training set accuracy = 0.9024500250816345\n",
      "Test set accuracy = 0.898300051689148\n",
      "\n",
      "Epoch number 8\n",
      "\n",
      "Training set accuracy = 0.9099000096321106\n",
      "Test set accuracy = 0.9049000144004822\n",
      "\n",
      "Epoch number 9\n",
      "\n",
      "Training set accuracy = 0.8996166586875916\n",
      "Test set accuracy = 0.8929000496864319\n",
      "\n",
      "Epoch number 10\n",
      "\n",
      "Training set accuracy = 0.8936833143234253\n",
      "Test set accuracy = 0.8888000249862671\n",
      "\n",
      "Epoch number 11\n",
      "\n",
      "Training set accuracy = 0.9041333198547363\n",
      "Test set accuracy = 0.896600067615509\n",
      "\n",
      "Epoch number 12\n",
      "\n",
      "Training set accuracy = 0.9260666966438293\n",
      "Test set accuracy = 0.9198000431060791\n",
      "\n",
      "Epoch number 13\n",
      "\n",
      "Training set accuracy = 0.9300333261489868\n",
      "Test set accuracy = 0.919700026512146\n",
      "\n",
      "Epoch number 14\n",
      "\n",
      "Training set accuracy = 0.8948333263397217\n",
      "Test set accuracy = 0.8908000588417053\n",
      "\n",
      "Epoch number 15\n",
      "\n",
      "Training set accuracy = 0.9227666854858398\n",
      "Test set accuracy = 0.9190000295639038\n",
      "\n",
      "Epoch number 16\n",
      "\n",
      "Training set accuracy = 0.9326666593551636\n",
      "Test set accuracy = 0.9261000156402588\n",
      "\n",
      "Epoch number 17\n",
      "\n",
      "Training set accuracy = 0.9344500303268433\n",
      "Test set accuracy = 0.9280000329017639\n",
      "\n",
      "Epoch number 18\n",
      "\n",
      "Training set accuracy = 0.9367833733558655\n",
      "Test set accuracy = 0.9307000637054443\n",
      "\n",
      "Epoch number 19\n",
      "\n",
      "Training set accuracy = 0.9369500279426575\n",
      "Test set accuracy = 0.931600034236908\n",
      "\n",
      "Epoch number 20\n",
      "\n",
      "Training set accuracy = 0.9315333366394043\n",
      "Test set accuracy = 0.9259000420570374\n",
      "\n"
     ]
    },
    {
     "data": {
      "text/plain": [
       "[<matplotlib.lines.Line2D at 0x7f3ef45864e0>]"
      ]
     },
     "execution_count": 166,
     "metadata": {
      "tags": []
     },
     "output_type": "execute_result"
    },
    {
     "data": {
      "image/png": "[encoded data removed]",
      "text/plain": [
       "<Figure size 432x288 with 1 Axes>"
      ]
     },
     "metadata": {
      "tags": []
     },
     "output_type": "display_data"
    }
   ],
   "source": [
    "params = init_params(layer_sizes)\n",
    "eps = 1e-4\n",
    "beta = 0.9\n",
    "track_loss = []\n",
    "vel = [(np.zeros([m, n]), np.zeros([n]))\n",
    "        for m, n, in zip(layer_sizes[:-1], layer_sizes[1:])]\n",
    "\n",
    "for epoch in range(num_epochs):\n",
    "\n",
    "  for i in range(num_batches):\n",
    "\n",
    "    inp = next(batches)\n",
    "    grads = grad(loss)(params, inp)\n",
    "\n",
    "    vel = [(beta*vel_w + (1-beta)*dw**2, beta*vel_b + (1-beta)*db**2 )\n",
    "           for (vel_w, vel_b), (dw, db) in zip(vel, grads)]\n",
    "\n",
    "    params = [(w - dw*lr/(vel_w**0.5 + eps), b - db*lr/(vel_b**0.5 + eps))\n",
    "            for (w, b), (vel_w, vel_b),(dw,db) in zip(params, vel,grads)]\n",
    "\n",
    "    if i%100 == 0:\n",
    "      track_loss.append(loss(params,inp))\n",
    "    \n",
    "  \n",
    "\n",
    "  train_acc = accuracy(params, (train_images, train_labels))\n",
    "  test_acc = accuracy(params, (test_images, test_labels))\n",
    "  print(f'Epoch number {epoch+1}\\n')\n",
    "  print(f'Training set accuracy = {train_acc}')\n",
    "  print(f'Test set accuracy = {test_acc}\\n')\n",
    "\n",
    "plt.plot(track_loss)"
   ]
  },
  {
   "cell_type": "markdown",
   "metadata": {
    "colab_type": "text",
    "id": "NVcNKiouqdVk"
   },
   "source": [
    "## ADAM"
   ]
  },
  {
   "cell_type": "code",
   "execution_count": 171,
   "metadata": {
    "colab": {
     "base_uri": "https://localhost:8080/",
     "height": 1000
    },
    "colab_type": "code",
    "executionInfo": {
     "elapsed": 915298,
     "status": "ok",
     "timestamp": 1578590551759,
     "user": {
      "displayName": "Neelay Shah",
      "photoUrl": "https://lh3.googleusercontent.com/a-/AAuE7mAYPfWwWR7cySeqWBPz_7nEPr0owe9fdCEsbBAi2A=s64",
      "userId": "13259335055052750882"
     },
     "user_tz": -330
    },
    "id": "R7yPeZSEqYek",
    "outputId": "cf4181e1-3524-4b2f-f53a-096db29aed4e"
   },
   "outputs": [
    {
     "name": "stdout",
     "output_type": "stream",
     "text": [
      "Epoch number 1\n",
      "\n",
      "Training set accuracy = 0.8227500319480896\n",
      "Test set accuracy = 0.8142000436782837\n",
      "\n",
      "Epoch number 2\n",
      "\n",
      "Training set accuracy = 0.8662166595458984\n",
      "Test set accuracy = 0.8542000651359558\n",
      "\n",
      "Epoch number 3\n",
      "\n",
      "Training set accuracy = 0.888450026512146\n",
      "Test set accuracy = 0.8705000281333923\n",
      "\n",
      "Epoch number 4\n",
      "\n",
      "Training set accuracy = 0.8993333578109741\n",
      "Test set accuracy = 0.8835000395774841\n",
      "\n",
      "Epoch number 5\n",
      "\n",
      "Training set accuracy = 0.905750036239624\n",
      "Test set accuracy = 0.8891000151634216\n",
      "\n",
      "Epoch number 6\n",
      "\n",
      "Training set accuracy = 0.9149333238601685\n",
      "Test set accuracy = 0.8978000283241272\n",
      "\n",
      "Epoch number 7\n",
      "\n",
      "Training set accuracy = 0.9152166843414307\n",
      "Test set accuracy = 0.8968000411987305\n",
      "\n",
      "Epoch number 8\n",
      "\n",
      "Training set accuracy = 0.9217166900634766\n",
      "Test set accuracy = 0.90420001745224\n",
      "\n",
      "Epoch number 9\n",
      "\n",
      "Training set accuracy = 0.926466703414917\n",
      "Test set accuracy = 0.909000039100647\n",
      "\n",
      "Epoch number 10\n",
      "\n",
      "Training set accuracy = 0.9317333698272705\n",
      "Test set accuracy = 0.9125000238418579\n",
      "\n",
      "Epoch number 11\n",
      "\n",
      "Training set accuracy = 0.9309333562850952\n",
      "Test set accuracy = 0.9120000600814819\n",
      "\n",
      "Epoch number 12\n",
      "\n",
      "Training set accuracy = 0.9325667023658752\n",
      "Test set accuracy = 0.9123000502586365\n",
      "\n",
      "Epoch number 13\n",
      "\n",
      "Training set accuracy = 0.9369833469390869\n",
      "Test set accuracy = 0.922700047492981\n",
      "\n",
      "Epoch number 14\n",
      "\n",
      "Training set accuracy = 0.9397000074386597\n",
      "Test set accuracy = 0.9250000715255737\n",
      "\n",
      "Epoch number 15\n",
      "\n",
      "Training set accuracy = 0.9399333596229553\n",
      "Test set accuracy = 0.9231000542640686\n",
      "\n",
      "Epoch number 16\n",
      "\n",
      "Training set accuracy = 0.9391666650772095\n",
      "Test set accuracy = 0.9212000370025635\n",
      "\n",
      "Epoch number 17\n",
      "\n",
      "Training set accuracy = 0.9419167041778564\n",
      "Test set accuracy = 0.9246000647544861\n",
      "\n",
      "Epoch number 18\n",
      "\n",
      "Training set accuracy = 0.9440500140190125\n",
      "Test set accuracy = 0.9271000623703003\n",
      "\n",
      "Epoch number 19\n",
      "\n",
      "Training set accuracy = 0.9454833269119263\n",
      "Test set accuracy = 0.9272000193595886\n",
      "\n",
      "Epoch number 20\n",
      "\n",
      "Training set accuracy = 0.9484000205993652\n",
      "Test set accuracy = 0.9296000599861145\n",
      "\n"
     ]
    },
    {
     "data": {
      "text/plain": [
       "[<matplotlib.lines.Line2D at 0x7f3ef47dec50>]"
      ]
     },
     "execution_count": 171,
     "metadata": {
      "tags": []
     },
     "output_type": "execute_result"
    },
    {
     "data": {
      "image/png": "[encoded data removed]",
      "text/plain": [
       "<Figure size 432x288 with 1 Axes>"
      ]
     },
     "metadata": {
      "tags": []
     },
     "output_type": "display_data"
    }
   ],
   "source": [
    "params = init_params(layer_sizes)\n",
    "eps = 1e-4\n",
    "beta1 = 0.9\n",
    "beta2 = 0.9\n",
    "track_loss = []\n",
    "\n",
    "vel = [(np.zeros([m, n]), np.zeros([n]))\n",
    "        for m, n, in zip(layer_sizes[:-1], layer_sizes[1:])]\n",
    "\n",
    "mom = [(np.zeros([m, n]), np.zeros([n]))\n",
    "        for m, n, in zip(layer_sizes[:-1], layer_sizes[1:])]\n",
    "\n",
    "for epoch in range(num_epochs):\n",
    "\n",
    "  for i in range(num_batches):\n",
    "\n",
    "    inp = next(batches)\n",
    "    grads = grad(loss)(params, inp)\n",
    "\n",
    "    mom = [(beta1*mom_w + (1-beta1)*dw, beta1*mom_b + (1-beta1)*db )\n",
    "           for (mom_w, mom_b), (dw, db) in zip(mom, grads)]\n",
    "\n",
    "    vel = [(beta2*vel_w + (1-beta2)*dw**2, beta2*vel_b + (1-beta2)*db**2 )\n",
    "           for (vel_w, vel_b), (dw, db) in zip(vel, grads)]\n",
    "\n",
    "    params = [(w - mom_w*lr/(vel_w**0.5 + eps), b - mom_b*lr/(vel_b**0.5 + eps))\n",
    "            for (w, b), (vel_w, vel_b),(mom_w,mom_b) in zip(params, vel,mom)]\n",
    "\n",
    "    if i%100 == 0:\n",
    "      track_loss.append(loss(params,inp))\n",
    "    \n",
    "  \n",
    "\n",
    "  train_acc = accuracy(params, (train_images, train_labels))\n",
    "  test_acc = accuracy(params, (test_images, test_labels))\n",
    "  print(f'Epoch number {epoch+1}\\n')\n",
    "  print(f'Training set accuracy = {train_acc}')\n",
    "  print(f'Test set accuracy = {test_acc}\\n')\n",
    "\n",
    "plt.plot(track_loss)"
   ]
  },
  {
   "cell_type": "code",
   "execution_count": 0,
   "metadata": {
    "colab": {},
    "colab_type": "code",
    "id": "cxNbvNH5sVJ9"
   },
   "outputs": [],
   "source": []
  }
 ],
 "metadata": {
  "accelerator": "GPU",
  "colab": {
   "collapsed_sections": [],
   "name": "Q4-1.ipynb",
   "provenance": []
  },
  "kernelspec": {
   "display_name": "Python 3",
   "language": "python",
   "name": "python3"
  },
  "language_info": {
   "codemirror_mode": {
    "name": "ipython",
    "version": 3
   },
   "file_extension": ".py",
   "mimetype": "text/x-python",
   "name": "python",
   "nbconvert_exporter": "python",
   "pygments_lexer": "ipython3",
   "version": "3.6.5"
  }
 },
 "nbformat": 4,
 "nbformat_minor": 1
}